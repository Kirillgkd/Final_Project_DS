{
 "cells": [
  {
   "cell_type": "code",
   "execution_count": 338,
   "metadata": {},
   "outputs": [],
   "source": [
    "import requests\n",
    "import re\n",
    "\n",
    "import folium\n",
    "import geopandas as gpd\n",
    "\n",
    "import numpy as np\n",
    "import pandas as pd\n",
    "import matplotlib.pyplot as plt\n",
    "import seaborn as sns\n",
    "\n",
    "from selenium.webdriver.common.by import By\n",
    "from selenium import webdriver\n",
    "from bs4 import BeautifulSoup\n",
    "from branca.colormap import linear\n",
    "import branca.colormap as cm"
   ]
  },
  {
   "cell_type": "markdown",
   "metadata": {},
   "source": [
    "## 1. Парсинг данных через API и Selenium"
   ]
  },
  {
   "cell_type": "markdown",
   "metadata": {},
   "source": [
    "В данном проекте будет использован API Поиска по организациям Яндекс Карт \n",
    "\n",
    "Инструкция по получению ключа для api: \n",
    "   1. Перейти по ссылке https://yandex.ru/dev/maps/geosearch/?from=mapsapi\n",
    "   2. Нажать \"Получить ключ\" \n",
    "   3. Заполнить контактные данные (Цель: учебный проект)\n",
    "   4. Скопировать ключ в переменную ниже\n",
    "   \n",
    "Функция ниже отправляет запрос на поиск мест в яндекс картах. Запрос состоит из названия места place и региона поиска region. На выходе функция выдает pandas.DataFrame с адресом и регионом найденных по запросу мест"
   ]
  },
  {
   "cell_type": "code",
   "execution_count": 131,
   "metadata": {},
   "outputs": [],
   "source": [
    "def yandex_maps_api(api_key, place, region):\n",
    "    \n",
    "    # Создаем пустой pandas.DataFrame в котором будем хранить данные\n",
    "    # Колонки: Place - название кафе\n",
    "    #          Adress - Адрес\n",
    "    #          Region - Регион\n",
    "    \n",
    "    df = pd.DataFrame(columns = ['Place', 'Address', 'Region']) \n",
    "    url = 'https://search-maps.yandex.ru/v1/'\n",
    "    search_request = f'{place} {region}'\n",
    "    i=0\n",
    "    \n",
    "    while True:\n",
    "        params = {'apikey': api_key, 'text': search_request, 'lang': 'ru_RU',\n",
    "                 'results':50, 'skip':50*i}\n",
    "        data = requests.get(url, params = params)\n",
    "    \n",
    "        info = data.json()\n",
    "        \n",
    "        if len(info['features'])==0:\n",
    "            break\n",
    "        \n",
    "        temp_df = pd.DataFrame()\n",
    "        place_col, city_col, reg_col = [], [], []\n",
    "        for place in info['features']:\n",
    "            place_col.append(place['properties']['name'])\n",
    "            try:\n",
    "                city_col.append(place['properties']['CompanyMetaData']['address'])\n",
    "                reg_col.append(place['properties']['CompanyMetaData']['address'].split(',')[0])\n",
    "            except KeyError:\n",
    "                city_col.append('Закрыто')\n",
    "                reg_col.append('Закрыто')\n",
    "        \n",
    "        temp_df['Place'] = place_col\n",
    "        temp_df['Address'] = city_col\n",
    "        temp_df['Region'] = reg_col\n",
    "        #temp_df['Requested_region'] = [region]*len(temp_df)\n",
    "\n",
    "        df = df.append(temp_df)\n",
    "        i+=1\n",
    "        if i==200: # ограничение Api\n",
    "            break \n",
    "    \n",
    "    return df"
   ]
  },
  {
   "cell_type": "markdown",
   "metadata": {},
   "source": [
    "Кроме того спарсим через Selenium названия регионов с сайта Росстата ('https://www.gks.ru/bgd/regl/b04_42/IssWWW.exe/Stg/d010/i011830r.htm'). Полученные значения обработаем с помощью регулярных выражений"
   ]
  },
  {
   "cell_type": "code",
   "execution_count": 128,
   "metadata": {},
   "outputs": [],
   "source": [
    "def parse_region_names(browser): # Ввести браузер\n",
    "\n",
    "    ref = 'https://www.gks.ru/bgd/regl/b04_42/IssWWW.exe/Stg/d010/i011830r.htm'\n",
    "    browser.get(ref)\n",
    "    element = browser.find_element(by=By.CSS_SELECTOR, value=\"table\")\n",
    "    text = element.text\n",
    "    browser.quit()\n",
    "    \n",
    "    regions = re.findall(r'\\d\\. [^\\n]+', text)\n",
    "    \n",
    "    new_regions = []\n",
    "\n",
    "    for region in regions:\n",
    "        if re.match(r'.*округ', region) == None and re.match(r'.*числе', region) == None :\n",
    "            new_regions.append(region.split('. ')[-1].rstrip())\n",
    "            \n",
    "    return new_regions[1:]"
   ]
  },
  {
   "cell_type": "code",
   "execution_count": 133,
   "metadata": {},
   "outputs": [],
   "source": [
    "# Ключ доступа к API\n",
    "api_key = '0d5460b6-5fd3-45b4-884f-19307eb88920'"
   ]
  },
  {
   "cell_type": "code",
   "execution_count": 129,
   "metadata": {},
   "outputs": [
    {
     "name": "stdout",
     "output_type": "stream",
     "text": [
      "['Белгородская область', 'Брянская область', 'Владимирская область', 'Воронежская область', 'Ивановская область']\n"
     ]
    }
   ],
   "source": [
    "# Получим список регионов\n",
    "browser = webdriver.Safari() # Поменяйте переменую браузер на свой при необходимости\n",
    "list_of_regions = parse_region_names(browser)\n",
    "print(list_of_regions[:5])"
   ]
  },
  {
   "cell_type": "markdown",
   "metadata": {},
   "source": [
    "**Обратите внимание, что  API позволяет парсить значения по запросу по 50 штук за запрос. Поэтому функционал реализовается через циклы и счетчик (переменная skip в словаре params). В случае запуска кода, для парсинга всех мест по всем регионом количество обращений будет превышать допустимый лимит. Поэтому сначала для тестирования работы кода сначала запустите тесты с одиночными запросами, а затем (при необходимости) финальный.**"
   ]
  },
  {
   "cell_type": "code",
   "execution_count": 136,
   "metadata": {},
   "outputs": [],
   "source": [
    "# Одиночные запрос для тестирования кода. Можно поменять значения на свои\n",
    "\n",
    "place = 'Аэропорт'\n",
    "region = 'Москва'\n",
    "test_df = yandex_maps_api(api_key, place, region)\n",
    "test_df.head()"
   ]
  },
  {
   "cell_type": "markdown",
   "metadata": {},
   "source": [
    "**Внимание! Запускать в последнюю очередь**"
   ]
  },
  {
   "cell_type": "code",
   "execution_count": 72,
   "metadata": {},
   "outputs": [],
   "source": [
    "df = pd.DataFrame()\n",
    "places = ['Вкусно — и точка', 'Бургер Кинг', 'KFC', 'Теремок']\n",
    "for place in places:\n",
    "    for region in list_of_regions:\n",
    "        df = df.append(yandex_maps_api(api_key, place, region))\n",
    "        \n",
    "df.reset_index(drop=True, inplace=True)"
   ]
  },
  {
   "cell_type": "code",
   "execution_count": 73,
   "metadata": {},
   "outputs": [],
   "source": [
    "# Сохраняем полученный датасет, так как для повтора запроса приходится содавать новый ключ\n",
    "#df.to_csv('FastFoodRussian.csv', index=False)"
   ]
  },
  {
   "cell_type": "markdown",
   "metadata": {},
   "source": [
    "## 2. Предобработка полученных данных"
   ]
  },
  {
   "cell_type": "markdown",
   "metadata": {},
   "source": [
    "В функции было реализован сбор Адреса места, чтобы в дальнейшем отбросить повторы. Например адрес повторяется, а названия: \"Вкусно - и точка\" и \"Вкусно - и точка Авто\".\n",
    "\n",
    "Кроме того API Яндекс Карт работает с квадратным окном поиска. Поэтому в некоторых ситуациях могли попасть несколько одинаковых ресторанов но по запросу от разных регионов. Их также фильтруем по адресу\n",
    "Также попали, поэтому могли попасть удивительные места вне России. Встречаались примеры с Казахстаном (логично) и даже Францией. Их отбросим отфильтровав регионы по нашему списку.\n",
    "\n",
    "Помимо этого было обнаружено что если ресторан находился в столице региона, то его адрес был, например, не \"Смоленская область, Смоленск...\", а \"Смоленск, ...\" поэтому спарсим также столицы регионов и сделаем словарь из полученных пар, а затем поменяем столицы в поле Region на названия регионов\n",
    "\n",
    "Также по запросу выдавались не только перечисленные места, но и похожие. Их тоже надо отбросить"
   ]
  },
  {
   "cell_type": "code",
   "execution_count": 259,
   "metadata": {},
   "outputs": [],
   "source": [
    "df = pd.read_csv('FastFoodRussian.csv')"
   ]
  },
  {
   "cell_type": "code",
   "execution_count": 260,
   "metadata": {},
   "outputs": [],
   "source": [
    "df.drop_duplicates(subset = 'Address', inplace = True)\n",
    "df = df[df['Place'].isin(places)]"
   ]
  },
  {
   "cell_type": "code",
   "execution_count": 261,
   "metadata": {},
   "outputs": [],
   "source": [
    "def parse_region_capitals():\n",
    "    \n",
    "    page = requests.get('https://ru.wikipedia.org/wiki/Субъекты_Российской_Федерации').text\n",
    "    soup = BeautifulSoup(page, 'html.parser')\n",
    "    table = soup.find('table', class_=\"standard sortable\")\n",
    "\n",
    "    df = pd.read_html(str(table))\n",
    "    df = pd.concat(df)\n",
    "    df = df[['Адм. центр/столица','Субъект Российской Федерации']]\n",
    "    df = df.dropna()\n",
    "    df['Субъект Российской Федерации'] = [re.findall(r'[^0-9\\[\\]]*', i)[0] for i in df['Субъект Российской Федерации']]\n",
    "    \n",
    "    d = {}\n",
    "    for key, value in zip(df['Адм. центр/столица'], df['Субъект Российской Федерации']):\n",
    "        d.update({key : value})\n",
    "    return(d)"
   ]
  },
  {
   "cell_type": "code",
   "execution_count": 262,
   "metadata": {},
   "outputs": [],
   "source": [
    "capital_dict = parse_region_capitals()"
   ]
  },
  {
   "cell_type": "code",
   "execution_count": 263,
   "metadata": {},
   "outputs": [],
   "source": [
    "new_regions = []\n",
    "\n",
    "for reg in df['Region']:\n",
    "    try:\n",
    "        new_regions.append(capital_dict[reg])\n",
    "    except KeyError:\n",
    "        new_regions.append(reg)"
   ]
  },
  {
   "cell_type": "code",
   "execution_count": 264,
   "metadata": {},
   "outputs": [
    {
     "data": {
      "text/html": [
       "<div>\n",
       "<style scoped>\n",
       "    .dataframe tbody tr th:only-of-type {\n",
       "        vertical-align: middle;\n",
       "    }\n",
       "\n",
       "    .dataframe tbody tr th {\n",
       "        vertical-align: top;\n",
       "    }\n",
       "\n",
       "    .dataframe thead th {\n",
       "        text-align: right;\n",
       "    }\n",
       "</style>\n",
       "<table border=\"1\" class=\"dataframe\">\n",
       "  <thead>\n",
       "    <tr style=\"text-align: right;\">\n",
       "      <th></th>\n",
       "      <th>Place</th>\n",
       "      <th>Address</th>\n",
       "      <th>Region</th>\n",
       "      <th>Region1</th>\n",
       "    </tr>\n",
       "  </thead>\n",
       "  <tbody>\n",
       "    <tr>\n",
       "      <th>0</th>\n",
       "      <td>Вкусно — и точка</td>\n",
       "      <td>Свердловская область, Екатеринбург, улица Малы...</td>\n",
       "      <td>Свердловская область</td>\n",
       "      <td>Свердловская область</td>\n",
       "    </tr>\n",
       "    <tr>\n",
       "      <th>1</th>\n",
       "      <td>Вкусно — и точка</td>\n",
       "      <td>Самара, Полевая улица, 15</td>\n",
       "      <td>Самара</td>\n",
       "      <td>Самарская область</td>\n",
       "    </tr>\n",
       "    <tr>\n",
       "      <th>2</th>\n",
       "      <td>Вкусно — и точка</td>\n",
       "      <td>Белгород, Белгородский проспект, 87</td>\n",
       "      <td>Белгород</td>\n",
       "      <td>Белгородская область</td>\n",
       "    </tr>\n",
       "    <tr>\n",
       "      <th>3</th>\n",
       "      <td>Вкусно — и точка</td>\n",
       "      <td>Белгород, проспект Богдана Хмельницкого, 160А</td>\n",
       "      <td>Белгород</td>\n",
       "      <td>Белгородская область</td>\n",
       "    </tr>\n",
       "    <tr>\n",
       "      <th>4</th>\n",
       "      <td>Вкусно — и точка</td>\n",
       "      <td>Белгородская область, Старый Оскол, микрорайон...</td>\n",
       "      <td>Белгородская область</td>\n",
       "      <td>Белгородская область</td>\n",
       "    </tr>\n",
       "    <tr>\n",
       "      <th>5</th>\n",
       "      <td>Вкусно — и точка</td>\n",
       "      <td>Белгород, улица Щорса, 64</td>\n",
       "      <td>Белгород</td>\n",
       "      <td>Белгородская область</td>\n",
       "    </tr>\n",
       "    <tr>\n",
       "      <th>8</th>\n",
       "      <td>Вкусно — и точка</td>\n",
       "      <td>Белгород, проспект Богдана Хмельницкого, 137Т</td>\n",
       "      <td>Белгород</td>\n",
       "      <td>Белгородская область</td>\n",
       "    </tr>\n",
       "    <tr>\n",
       "      <th>12</th>\n",
       "      <td>Вкусно — и точка</td>\n",
       "      <td>Брянск, Бежицкая улица, 2В</td>\n",
       "      <td>Брянск</td>\n",
       "      <td>Брянская область</td>\n",
       "    </tr>\n",
       "    <tr>\n",
       "      <th>13</th>\n",
       "      <td>Вкусно — и точка</td>\n",
       "      <td>Брянск, улица Ульянова, 1В</td>\n",
       "      <td>Брянск</td>\n",
       "      <td>Брянская область</td>\n",
       "    </tr>\n",
       "    <tr>\n",
       "      <th>15</th>\n",
       "      <td>Вкусно — и точка</td>\n",
       "      <td>Брянск, улица 3 Интернационала, 8А</td>\n",
       "      <td>Брянск</td>\n",
       "      <td>Брянская область</td>\n",
       "    </tr>\n",
       "  </tbody>\n",
       "</table>\n",
       "</div>"
      ],
      "text/plain": [
       "               Place                                            Address  \\\n",
       "0   Вкусно — и точка  Свердловская область, Екатеринбург, улица Малы...   \n",
       "1   Вкусно — и точка                          Самара, Полевая улица, 15   \n",
       "2   Вкусно — и точка                Белгород, Белгородский проспект, 87   \n",
       "3   Вкусно — и точка      Белгород, проспект Богдана Хмельницкого, 160А   \n",
       "4   Вкусно — и точка  Белгородская область, Старый Оскол, микрорайон...   \n",
       "5   Вкусно — и точка                          Белгород, улица Щорса, 64   \n",
       "8   Вкусно — и точка      Белгород, проспект Богдана Хмельницкого, 137Т   \n",
       "12  Вкусно — и точка                         Брянск, Бежицкая улица, 2В   \n",
       "13  Вкусно — и точка                         Брянск, улица Ульянова, 1В   \n",
       "15  Вкусно — и точка                 Брянск, улица 3 Интернационала, 8А   \n",
       "\n",
       "                  Region               Region1  \n",
       "0   Свердловская область  Свердловская область  \n",
       "1                 Самара     Самарская область  \n",
       "2               Белгород  Белгородская область  \n",
       "3               Белгород  Белгородская область  \n",
       "4   Белгородская область  Белгородская область  \n",
       "5               Белгород  Белгородская область  \n",
       "8               Белгород  Белгородская область  \n",
       "12                Брянск      Брянская область  \n",
       "13                Брянск      Брянская область  \n",
       "15                Брянск      Брянская область  "
      ]
     },
     "execution_count": 264,
     "metadata": {},
     "output_type": "execute_result"
    }
   ],
   "source": [
    "df['Region1']=new_regions\n",
    "df.head(10)"
   ]
  },
  {
   "cell_type": "code",
   "execution_count": 266,
   "metadata": {},
   "outputs": [],
   "source": [
    "df = df[df['Region'].isin(list_of_regions)]"
   ]
  },
  {
   "cell_type": "markdown",
   "metadata": {},
   "source": [
    "## 3. Анализ данных"
   ]
  },
  {
   "cell_type": "markdown",
   "metadata": {},
   "source": [
    "Выведем топ-10 по парам регион-кафе"
   ]
  },
  {
   "cell_type": "code",
   "execution_count": 267,
   "metadata": {},
   "outputs": [
    {
     "data": {
      "text/html": [
       "<div>\n",
       "<style scoped>\n",
       "    .dataframe tbody tr th:only-of-type {\n",
       "        vertical-align: middle;\n",
       "    }\n",
       "\n",
       "    .dataframe tbody tr th {\n",
       "        vertical-align: top;\n",
       "    }\n",
       "\n",
       "    .dataframe thead th {\n",
       "        text-align: right;\n",
       "    }\n",
       "</style>\n",
       "<table border=\"1\" class=\"dataframe\">\n",
       "  <thead>\n",
       "    <tr style=\"text-align: right;\">\n",
       "      <th></th>\n",
       "      <th></th>\n",
       "      <th>Address</th>\n",
       "      <th>Region1</th>\n",
       "    </tr>\n",
       "    <tr>\n",
       "      <th>Region</th>\n",
       "      <th>Place</th>\n",
       "      <th></th>\n",
       "      <th></th>\n",
       "    </tr>\n",
       "  </thead>\n",
       "  <tbody>\n",
       "    <tr>\n",
       "      <th rowspan=\"3\" valign=\"top\">Москва</th>\n",
       "      <th>Вкусно — и точка</th>\n",
       "      <td>196</td>\n",
       "      <td>196</td>\n",
       "    </tr>\n",
       "    <tr>\n",
       "      <th>KFC</th>\n",
       "      <td>124</td>\n",
       "      <td>124</td>\n",
       "    </tr>\n",
       "    <tr>\n",
       "      <th>Бургер Кинг</th>\n",
       "      <td>119</td>\n",
       "      <td>119</td>\n",
       "    </tr>\n",
       "    <tr>\n",
       "      <th>Санкт-Петербург</th>\n",
       "      <th>Теремок</th>\n",
       "      <td>97</td>\n",
       "      <td>97</td>\n",
       "    </tr>\n",
       "    <tr>\n",
       "      <th rowspan=\"2\" valign=\"top\">Московская область</th>\n",
       "      <th>Бургер Кинг</th>\n",
       "      <td>90</td>\n",
       "      <td>90</td>\n",
       "    </tr>\n",
       "    <tr>\n",
       "      <th>Вкусно — и точка</th>\n",
       "      <td>83</td>\n",
       "      <td>83</td>\n",
       "    </tr>\n",
       "    <tr>\n",
       "      <th>Санкт-Петербург</th>\n",
       "      <th>Вкусно — и точка</th>\n",
       "      <td>76</td>\n",
       "      <td>76</td>\n",
       "    </tr>\n",
       "    <tr>\n",
       "      <th>Москва</th>\n",
       "      <th>Теремок</th>\n",
       "      <td>61</td>\n",
       "      <td>61</td>\n",
       "    </tr>\n",
       "    <tr>\n",
       "      <th>Московская область</th>\n",
       "      <th>KFC</th>\n",
       "      <td>60</td>\n",
       "      <td>60</td>\n",
       "    </tr>\n",
       "    <tr>\n",
       "      <th>Санкт-Петербург</th>\n",
       "      <th>KFC</th>\n",
       "      <td>58</td>\n",
       "      <td>58</td>\n",
       "    </tr>\n",
       "  </tbody>\n",
       "</table>\n",
       "</div>"
      ],
      "text/plain": [
       "                                     Address  Region1\n",
       "Region             Place                             \n",
       "Москва             Вкусно — и точка      196      196\n",
       "                   KFC                   124      124\n",
       "                   Бургер Кинг           119      119\n",
       "Санкт-Петербург    Теремок                97       97\n",
       "Московская область Бургер Кинг            90       90\n",
       "                   Вкусно — и точка       83       83\n",
       "Санкт-Петербург    Вкусно — и точка       76       76\n",
       "Москва             Теремок                61       61\n",
       "Московская область KFC                    60       60\n",
       "Санкт-Петербург    KFC                    58       58"
      ]
     },
     "execution_count": 267,
     "metadata": {},
     "output_type": "execute_result"
    }
   ],
   "source": [
    "df.groupby(by=['Region', 'Place']).count().sort_values(by='Address', ascending=False)[:10]"
   ]
  },
  {
   "cell_type": "markdown",
   "metadata": {},
   "source": [
    "Функция для построения топ n регионов по кол-ву точек фастфуда"
   ]
  },
  {
   "cell_type": "code",
   "execution_count": 255,
   "metadata": {},
   "outputs": [],
   "source": [
    "def distribution_by_region(df, n):\n",
    "    \n",
    "    data = df.groupby(by='Region', as_index=False).count()\n",
    "    \n",
    "    print(f'Топ {n} регионов по кол-ву точек фастфуда\\n')\n",
    "    \n",
    "    if n > len(df['Region'].unique()):\n",
    "        n = len(df['Region'].unique())\n",
    "    \n",
    "    for reg, count in zip(data.sort_values(by='Place', ascending=False)['Region'][:n], \n",
    "                          data.sort_values(by='Place', ascending=False)['Place'][:n]):\n",
    "        print(f'{reg} - {count}')\n",
    "        \n",
    "    "
   ]
  },
  {
   "cell_type": "code",
   "execution_count": 256,
   "metadata": {},
   "outputs": [
    {
     "name": "stdout",
     "output_type": "stream",
     "text": [
      "Топ 10 регионов по кол-ву точек фастфуда\n",
      "\n",
      "Москва - 500\n",
      "Санкт-Петербург - 283\n",
      "Московская область - 265\n",
      "Краснодарский край - 93\n",
      "Свердловская область - 89\n",
      "Республика Татарстан - 77\n",
      "Республика Башкортостан - 72\n",
      "Алтайский край - 44\n",
      "Нижегородская область - 41\n",
      "Приморский край - 37\n"
     ]
    }
   ],
   "source": [
    "distribution_by_region(df, 10)"
   ]
  },
  {
   "cell_type": "markdown",
   "metadata": {},
   "source": [
    "Построим также barplot распределения для топ 20 регионов"
   ]
  },
  {
   "cell_type": "code",
   "execution_count": 257,
   "metadata": {},
   "outputs": [
    {
     "data": {
      "text/plain": [
       "Text(0, 0.5, 'Number of places')"
      ]
     },
     "execution_count": 257,
     "metadata": {},
     "output_type": "execute_result"
    },
    {
     "data": {
      "image/png": "[encoded data removed]",
      "text/plain": [
       "<Figure size 432x288 with 1 Axes>"
      ]
     },
     "metadata": {
      "needs_background": "light"
     },
     "output_type": "display_data"
    }
   ],
   "source": [
    "sns.barplot(data = df.groupby(by='Region', as_index=False).count()\\\n",
    "            .sort_values(by='Place', ascending=False)[:20], x = 'Region', y = 'Place')\n",
    "\n",
    "plt.xticks(rotation=-90)\n",
    "plt.ylabel('Number of places')\n",
    "\n",
    "#plt.savefig('Fig1.jpeg')"
   ]
  },
  {
   "cell_type": "markdown",
   "metadata": {},
   "source": [
    "Аналогичный график построим для распределния точек сети"
   ]
  },
  {
   "cell_type": "code",
   "execution_count": 265,
   "metadata": {},
   "outputs": [
    {
     "data": {
      "image/png": "[encoded data removed]",
      "text/plain": [
       "<Figure size 432x288 with 1 Axes>"
      ]
     },
     "metadata": {
      "needs_background": "light"
     },
     "output_type": "display_data"
    }
   ],
   "source": [
    "sns.barplot(data = df.groupby(by='Place', as_index=False).count()\\\n",
    "            .sort_values(by='Region', ascending=False), x = 'Region', y = 'Place')\n",
    "\n",
    "plt.xlabel('Number of places')\n",
    "plt.xticks(rotation=-90)\n",
    "#plt.savefig('Fig2.jpeg')"
   ]
  },
  {
   "cell_type": "markdown",
   "metadata": {},
   "source": [
    "Интересно! Видимо пока иностранные сети фаст-фуда уходят, \"Теремок\" расширяется\n",
    "\n",
    "Теперь найдем регионы которые любят определенные сети фастфуда больше других. Посчитаемое процентное соотношение тех или иных сетей по кааждому региону, а затем отобразим это на карте"
   ]
  },
  {
   "cell_type": "code",
   "execution_count": 270,
   "metadata": {},
   "outputs": [
    {
     "data": {
      "text/html": [
       "<div>\n",
       "<style scoped>\n",
       "    .dataframe tbody tr th:only-of-type {\n",
       "        vertical-align: middle;\n",
       "    }\n",
       "\n",
       "    .dataframe tbody tr th {\n",
       "        vertical-align: top;\n",
       "    }\n",
       "\n",
       "    .dataframe thead th {\n",
       "        text-align: right;\n",
       "    }\n",
       "</style>\n",
       "<table border=\"1\" class=\"dataframe\">\n",
       "  <thead>\n",
       "    <tr style=\"text-align: right;\">\n",
       "      <th></th>\n",
       "      <th>Region</th>\n",
       "      <th>Place</th>\n",
       "      <th>Address</th>\n",
       "      <th>Region1</th>\n",
       "    </tr>\n",
       "  </thead>\n",
       "  <tbody>\n",
       "    <tr>\n",
       "      <th>0</th>\n",
       "      <td>Алтайский край</td>\n",
       "      <td>KFC</td>\n",
       "      <td>6</td>\n",
       "      <td>6</td>\n",
       "    </tr>\n",
       "    <tr>\n",
       "      <th>1</th>\n",
       "      <td>Алтайский край</td>\n",
       "      <td>Бургер Кинг</td>\n",
       "      <td>7</td>\n",
       "      <td>7</td>\n",
       "    </tr>\n",
       "    <tr>\n",
       "      <th>2</th>\n",
       "      <td>Алтайский край</td>\n",
       "      <td>Вкусно — и точка</td>\n",
       "      <td>3</td>\n",
       "      <td>3</td>\n",
       "    </tr>\n",
       "    <tr>\n",
       "      <th>3</th>\n",
       "      <td>Алтайский край</td>\n",
       "      <td>Теремок</td>\n",
       "      <td>28</td>\n",
       "      <td>28</td>\n",
       "    </tr>\n",
       "    <tr>\n",
       "      <th>4</th>\n",
       "      <td>Амурская область</td>\n",
       "      <td>KFC</td>\n",
       "      <td>2</td>\n",
       "      <td>2</td>\n",
       "    </tr>\n",
       "  </tbody>\n",
       "</table>\n",
       "</div>"
      ],
      "text/plain": [
       "             Region             Place  Address  Region1\n",
       "0    Алтайский край               KFC        6        6\n",
       "1    Алтайский край       Бургер Кинг        7        7\n",
       "2    Алтайский край  Вкусно — и точка        3        3\n",
       "3    Алтайский край           Теремок       28       28\n",
       "4  Амурская область               KFC        2        2"
      ]
     },
     "execution_count": 270,
     "metadata": {},
     "output_type": "execute_result"
    }
   ],
   "source": [
    "grouped_df = df.groupby(by=['Region','Place'], as_index=False).count()\n",
    "grouped_df.head()"
   ]
  },
  {
   "cell_type": "code",
   "execution_count": 287,
   "metadata": {},
   "outputs": [
    {
     "data": {
      "text/html": [
       "<div>\n",
       "<style scoped>\n",
       "    .dataframe tbody tr th:only-of-type {\n",
       "        vertical-align: middle;\n",
       "    }\n",
       "\n",
       "    .dataframe tbody tr th {\n",
       "        vertical-align: top;\n",
       "    }\n",
       "\n",
       "    .dataframe thead th {\n",
       "        text-align: right;\n",
       "    }\n",
       "</style>\n",
       "<table border=\"1\" class=\"dataframe\">\n",
       "  <thead>\n",
       "    <tr style=\"text-align: right;\">\n",
       "      <th>Place</th>\n",
       "      <th>KFC</th>\n",
       "      <th>Бургер Кинг</th>\n",
       "      <th>Вкусно — и точка</th>\n",
       "      <th>Теремок</th>\n",
       "    </tr>\n",
       "    <tr>\n",
       "      <th>Region</th>\n",
       "      <th></th>\n",
       "      <th></th>\n",
       "      <th></th>\n",
       "      <th></th>\n",
       "    </tr>\n",
       "  </thead>\n",
       "  <tbody>\n",
       "    <tr>\n",
       "      <th>Алтайский край</th>\n",
       "      <td>6.0</td>\n",
       "      <td>7.0</td>\n",
       "      <td>3.0</td>\n",
       "      <td>28.0</td>\n",
       "    </tr>\n",
       "    <tr>\n",
       "      <th>Амурская область</th>\n",
       "      <td>2.0</td>\n",
       "      <td>0.0</td>\n",
       "      <td>0.0</td>\n",
       "      <td>7.0</td>\n",
       "    </tr>\n",
       "    <tr>\n",
       "      <th>Архангельская область</th>\n",
       "      <td>1.0</td>\n",
       "      <td>0.0</td>\n",
       "      <td>1.0</td>\n",
       "      <td>0.0</td>\n",
       "    </tr>\n",
       "    <tr>\n",
       "      <th>Астраханская область</th>\n",
       "      <td>0.0</td>\n",
       "      <td>0.0</td>\n",
       "      <td>0.0</td>\n",
       "      <td>3.0</td>\n",
       "    </tr>\n",
       "    <tr>\n",
       "      <th>Белгородская область</th>\n",
       "      <td>1.0</td>\n",
       "      <td>3.0</td>\n",
       "      <td>1.0</td>\n",
       "      <td>8.0</td>\n",
       "    </tr>\n",
       "  </tbody>\n",
       "</table>\n",
       "</div>"
      ],
      "text/plain": [
       "Place                  KFC  Бургер Кинг  Вкусно — и точка  Теремок\n",
       "Region                                                            \n",
       "Алтайский край         6.0          7.0               3.0     28.0\n",
       "Амурская область       2.0          0.0               0.0      7.0\n",
       "Архангельская область  1.0          0.0               1.0      0.0\n",
       "Астраханская область   0.0          0.0               0.0      3.0\n",
       "Белгородская область   1.0          3.0               1.0      8.0"
      ]
     },
     "execution_count": 287,
     "metadata": {},
     "output_type": "execute_result"
    }
   ],
   "source": [
    "pivot = pd.pivot_table(grouped_df, values='Address', index='Region',\n",
    "                        columns='Place')\n",
    "pivot.fillna(0, inplace=True)\n",
    "pivot.head()"
   ]
  },
  {
   "cell_type": "code",
   "execution_count": 288,
   "metadata": {},
   "outputs": [],
   "source": [
    "# Для удобства дальнейшего пересчета процента\n",
    "pivot.reset_index(inplace = True)"
   ]
  },
  {
   "cell_type": "code",
   "execution_count": 289,
   "metadata": {},
   "outputs": [
    {
     "data": {
      "text/plain": [
       "Index(['Region', 'KFC', 'Бургер Кинг', 'Вкусно — и точка', 'Теремок'], dtype='object', name='Place')"
      ]
     },
     "execution_count": 289,
     "metadata": {},
     "output_type": "execute_result"
    }
   ],
   "source": [
    "pivot.columns"
   ]
  },
  {
   "cell_type": "code",
   "execution_count": 299,
   "metadata": {},
   "outputs": [],
   "source": [
    "def favourite(df):\n",
    "    \n",
    "    df['Sum'] = [i+j+k+m for i,j,k,m in zip(df['KFC'], df['Бургер Кинг'], df['Вкусно — и точка'], df['Теремок'])]\n",
    "    \n",
    "    for col in df.columns[1:]:\n",
    "        df[f'Percent_{col}'] = [np.round(i/j*100,2) for i,j in zip(df[col], df['Sum'])]\n",
    "    \n",
    "    \n",
    "    for place in ['KFC', 'Бургер Кинг', 'Вкусно — и точка', 'Теремок']:\n",
    "        print(f'Топ 5 регионов по проценту точек {place}\\n')\n",
    "        for reg, percent in zip(df.sort_values(by=f'Percent_{place}', ascending=False)['Region'][:5], \n",
    "                          df.sort_values(by=f'Percent_{place}', ascending=False)[f'Percent_{place}'][:5]):\n",
    "            print(f'{reg} - {percent}')\n",
    "        \n",
    "        print('\\n')\n",
    "        \n",
    "    return df\n",
    "    "
   ]
  },
  {
   "cell_type": "code",
   "execution_count": 300,
   "metadata": {},
   "outputs": [
    {
     "name": "stdout",
     "output_type": "stream",
     "text": [
      "Топ 5 регионов по проценту точек KFC\n",
      "\n",
      "Республика Ингушетия - 100.0\n",
      "Карачаево-Черкесская Республика - 75.0\n",
      "Архангельская область - 50.0\n",
      "Республика Дагестан - 50.0\n",
      "Приморский край - 45.95\n",
      "\n",
      "\n",
      "Топ 5 регионов по проценту точек Бургер Кинг\n",
      "\n",
      "Республика Алтай - 50.0\n",
      "Вологодская область - 37.5\n",
      "Московская область - 33.96\n",
      "Тюменская область - 33.33\n",
      "Удмуртская Республика - 33.33\n",
      "\n",
      "\n",
      "Топ 5 регионов по проценту точек Вкусно — и точка\n",
      "\n",
      "Республика Алтай - 50.0\n",
      "Архангельская область - 50.0\n",
      "Республика Адыгея - 44.44\n",
      "Ярославская область - 42.86\n",
      "Москва - 39.2\n",
      "\n",
      "\n",
      "Топ 5 регионов по проценту точек Теремок\n",
      "\n",
      "Костромская область - 100.0\n",
      "Еврейская автономная область - 100.0\n",
      "Республика Калмыкия - 100.0\n",
      "Рязанская область - 100.0\n",
      "Курганская область - 100.0\n",
      "\n",
      "\n"
     ]
    }
   ],
   "source": [
    "new_df = favourite(pivot)"
   ]
  },
  {
   "cell_type": "code",
   "execution_count": 293,
   "metadata": {},
   "outputs": [
    {
     "data": {
      "text/html": [
       "<div>\n",
       "<style scoped>\n",
       "    .dataframe tbody tr th:only-of-type {\n",
       "        vertical-align: middle;\n",
       "    }\n",
       "\n",
       "    .dataframe tbody tr th {\n",
       "        vertical-align: top;\n",
       "    }\n",
       "\n",
       "    .dataframe thead th {\n",
       "        text-align: right;\n",
       "    }\n",
       "</style>\n",
       "<table border=\"1\" class=\"dataframe\">\n",
       "  <thead>\n",
       "    <tr style=\"text-align: right;\">\n",
       "      <th>Place</th>\n",
       "      <th>Region</th>\n",
       "      <th>KFC</th>\n",
       "      <th>Бургер Кинг</th>\n",
       "      <th>Вкусно — и точка</th>\n",
       "      <th>Теремок</th>\n",
       "      <th>Sum</th>\n",
       "      <th>Percent_KFC</th>\n",
       "      <th>Percent_Бургер Кинг</th>\n",
       "      <th>Percent_Вкусно — и точка</th>\n",
       "      <th>Percent_Теремок</th>\n",
       "      <th>Percent_Sum</th>\n",
       "    </tr>\n",
       "  </thead>\n",
       "  <tbody>\n",
       "    <tr>\n",
       "      <th>0</th>\n",
       "      <td>Алтайский край</td>\n",
       "      <td>6.0</td>\n",
       "      <td>7.0</td>\n",
       "      <td>3.0</td>\n",
       "      <td>28.0</td>\n",
       "      <td>44.0</td>\n",
       "      <td>13.64</td>\n",
       "      <td>15.91</td>\n",
       "      <td>6.82</td>\n",
       "      <td>63.64</td>\n",
       "      <td>100.0</td>\n",
       "    </tr>\n",
       "    <tr>\n",
       "      <th>1</th>\n",
       "      <td>Амурская область</td>\n",
       "      <td>2.0</td>\n",
       "      <td>0.0</td>\n",
       "      <td>0.0</td>\n",
       "      <td>7.0</td>\n",
       "      <td>9.0</td>\n",
       "      <td>22.22</td>\n",
       "      <td>0.00</td>\n",
       "      <td>0.00</td>\n",
       "      <td>77.78</td>\n",
       "      <td>100.0</td>\n",
       "    </tr>\n",
       "    <tr>\n",
       "      <th>2</th>\n",
       "      <td>Архангельская область</td>\n",
       "      <td>1.0</td>\n",
       "      <td>0.0</td>\n",
       "      <td>1.0</td>\n",
       "      <td>0.0</td>\n",
       "      <td>2.0</td>\n",
       "      <td>50.00</td>\n",
       "      <td>0.00</td>\n",
       "      <td>50.00</td>\n",
       "      <td>0.00</td>\n",
       "      <td>100.0</td>\n",
       "    </tr>\n",
       "    <tr>\n",
       "      <th>3</th>\n",
       "      <td>Астраханская область</td>\n",
       "      <td>0.0</td>\n",
       "      <td>0.0</td>\n",
       "      <td>0.0</td>\n",
       "      <td>3.0</td>\n",
       "      <td>3.0</td>\n",
       "      <td>0.00</td>\n",
       "      <td>0.00</td>\n",
       "      <td>0.00</td>\n",
       "      <td>100.00</td>\n",
       "      <td>100.0</td>\n",
       "    </tr>\n",
       "    <tr>\n",
       "      <th>4</th>\n",
       "      <td>Белгородская область</td>\n",
       "      <td>1.0</td>\n",
       "      <td>3.0</td>\n",
       "      <td>1.0</td>\n",
       "      <td>8.0</td>\n",
       "      <td>13.0</td>\n",
       "      <td>7.69</td>\n",
       "      <td>23.08</td>\n",
       "      <td>7.69</td>\n",
       "      <td>61.54</td>\n",
       "      <td>100.0</td>\n",
       "    </tr>\n",
       "  </tbody>\n",
       "</table>\n",
       "</div>"
      ],
      "text/plain": [
       "Place                 Region  KFC  Бургер Кинг  Вкусно — и точка  Теремок  \\\n",
       "0             Алтайский край  6.0          7.0               3.0     28.0   \n",
       "1           Амурская область  2.0          0.0               0.0      7.0   \n",
       "2      Архангельская область  1.0          0.0               1.0      0.0   \n",
       "3       Астраханская область  0.0          0.0               0.0      3.0   \n",
       "4       Белгородская область  1.0          3.0               1.0      8.0   \n",
       "\n",
       "Place   Sum  Percent_KFC  Percent_Бургер Кинг  Percent_Вкусно — и точка  \\\n",
       "0      44.0        13.64                15.91                      6.82   \n",
       "1       9.0        22.22                 0.00                      0.00   \n",
       "2       2.0        50.00                 0.00                     50.00   \n",
       "3       3.0         0.00                 0.00                      0.00   \n",
       "4      13.0         7.69                23.08                      7.69   \n",
       "\n",
       "Place  Percent_Теремок  Percent_Sum  \n",
       "0                63.64        100.0  \n",
       "1                77.78        100.0  \n",
       "2                 0.00        100.0  \n",
       "3               100.00        100.0  \n",
       "4                61.54        100.0  "
      ]
     },
     "execution_count": 293,
     "metadata": {},
     "output_type": "execute_result"
    }
   ],
   "source": [
    "new_df.head()"
   ]
  },
  {
   "cell_type": "markdown",
   "metadata": {},
   "source": [
    "Теперь построим карты где цветом будет обозначен процент присутствия фастфуда той или иной сети, а также общее кол-во точек фастфуда. Строить будем с помощью folium и geopandas.\n",
    "\n",
    "Датасеты с геометрическими границами регионов и код для вдохновения был взят с (https://www.kaggle.com/code/kapral42/covid-19-russia-geo-plotting)"
   ]
  },
  {
   "cell_type": "code",
   "execution_count": 303,
   "metadata": {},
   "outputs": [
    {
     "data": {
      "text/html": [
       "<div>\n",
       "<style scoped>\n",
       "    .dataframe tbody tr th:only-of-type {\n",
       "        vertical-align: middle;\n",
       "    }\n",
       "\n",
       "    .dataframe tbody tr th {\n",
       "        vertical-align: top;\n",
       "    }\n",
       "\n",
       "    .dataframe thead th {\n",
       "        text-align: right;\n",
       "    }\n",
       "</style>\n",
       "<table border=\"1\" class=\"dataframe\">\n",
       "  <thead>\n",
       "    <tr style=\"text-align: right;\">\n",
       "      <th></th>\n",
       "      <th>Region_ID</th>\n",
       "      <th>Region</th>\n",
       "      <th>Region_eng</th>\n",
       "      <th>Population</th>\n",
       "      <th>Rus_perc</th>\n",
       "      <th>Urban_pop</th>\n",
       "      <th>Urban_pop_perc</th>\n",
       "      <th>Rural_pop</th>\n",
       "      <th>Rural_pop_perc</th>\n",
       "      <th>Area</th>\n",
       "      <th>Density_pop_sqkm</th>\n",
       "      <th>Federal_district</th>\n",
       "      <th>Latitude</th>\n",
       "      <th>Longitude</th>\n",
       "    </tr>\n",
       "  </thead>\n",
       "  <tbody>\n",
       "    <tr>\n",
       "      <th>0</th>\n",
       "      <td>0</td>\n",
       "      <td>Россия</td>\n",
       "      <td>Russia</td>\n",
       "      <td>146745098</td>\n",
       "      <td>100</td>\n",
       "      <td>109326899</td>\n",
       "      <td>74,5</td>\n",
       "      <td>37553533</td>\n",
       "      <td>25,59</td>\n",
       "      <td>17125191</td>\n",
       "      <td>8,57</td>\n",
       "      <td>РФ</td>\n",
       "      <td>64.686314</td>\n",
       "      <td>97.745306</td>\n",
       "    </tr>\n",
       "    <tr>\n",
       "      <th>1</th>\n",
       "      <td>77</td>\n",
       "      <td>Москва</td>\n",
       "      <td>Moscow</td>\n",
       "      <td>12692466</td>\n",
       "      <td>8,65</td>\n",
       "      <td>12342615</td>\n",
       "      <td>97,24</td>\n",
       "      <td>163853</td>\n",
       "      <td>1,29</td>\n",
       "      <td>2561</td>\n",
       "      <td>4956,06</td>\n",
       "      <td>ЦФО</td>\n",
       "      <td>55.479205</td>\n",
       "      <td>37.327330</td>\n",
       "    </tr>\n",
       "    <tr>\n",
       "      <th>2</th>\n",
       "      <td>50</td>\n",
       "      <td>Московская область</td>\n",
       "      <td>Moscow region</td>\n",
       "      <td>7687647</td>\n",
       "      <td>5,24</td>\n",
       "      <td>6123573</td>\n",
       "      <td>79,65</td>\n",
       "      <td>1379812</td>\n",
       "      <td>17,95</td>\n",
       "      <td>44329</td>\n",
       "      <td>173,42</td>\n",
       "      <td>ЦФО</td>\n",
       "      <td>55.504316</td>\n",
       "      <td>38.035393</td>\n",
       "    </tr>\n",
       "    <tr>\n",
       "      <th>3</th>\n",
       "      <td>23</td>\n",
       "      <td>Краснодарский край</td>\n",
       "      <td>Krasnodar region</td>\n",
       "      <td>5677786</td>\n",
       "      <td>3,87</td>\n",
       "      <td>3075168</td>\n",
       "      <td>54,16</td>\n",
       "      <td>2528252</td>\n",
       "      <td>44,53</td>\n",
       "      <td>75485</td>\n",
       "      <td>75,22</td>\n",
       "      <td>ЮФО</td>\n",
       "      <td>45.768401</td>\n",
       "      <td>39.026104</td>\n",
       "    </tr>\n",
       "    <tr>\n",
       "      <th>4</th>\n",
       "      <td>78</td>\n",
       "      <td>Санкт-Петербург</td>\n",
       "      <td>St. Petersburg</td>\n",
       "      <td>5392992</td>\n",
       "      <td>3,68</td>\n",
       "      <td>5351935</td>\n",
       "      <td>99,24</td>\n",
       "      <td>0</td>\n",
       "      <td>0</td>\n",
       "      <td>1403</td>\n",
       "      <td>3843,9</td>\n",
       "      <td>СЗФО</td>\n",
       "      <td>59.960674</td>\n",
       "      <td>30.158655</td>\n",
       "    </tr>\n",
       "  </tbody>\n",
       "</table>\n",
       "</div>"
      ],
      "text/plain": [
       "   Region_ID              Region        Region_eng  Population Rus_perc  \\\n",
       "0          0              Россия            Russia   146745098      100   \n",
       "1         77              Москва            Moscow    12692466     8,65   \n",
       "2         50  Московская область     Moscow region     7687647     5,24   \n",
       "3         23  Краснодарский край  Krasnodar region     5677786     3,87   \n",
       "4         78     Санкт-Петербург    St. Petersburg     5392992     3,68   \n",
       "\n",
       "   Urban_pop Urban_pop_perc  Rural_pop Rural_pop_perc      Area  \\\n",
       "0  109326899           74,5   37553533          25,59  17125191   \n",
       "1   12342615          97,24     163853           1,29      2561   \n",
       "2    6123573          79,65    1379812          17,95     44329   \n",
       "3    3075168          54,16    2528252          44,53     75485   \n",
       "4    5351935          99,24          0              0      1403   \n",
       "\n",
       "  Density_pop_sqkm Federal_district   Latitude  Longitude  \n",
       "0             8,57               РФ  64.686314  97.745306  \n",
       "1          4956,06              ЦФО  55.479205  37.327330  \n",
       "2           173,42              ЦФО  55.504316  38.035393  \n",
       "3            75,22              ЮФО  45.768401  39.026104  \n",
       "4           3843,9             СЗФО  59.960674  30.158655  "
      ]
     },
     "execution_count": 303,
     "metadata": {},
     "output_type": "execute_result"
    }
   ],
   "source": [
    "rus_info_df = pd.read_csv('regions-info.csv')\n",
    "rus_info_df.head()"
   ]
  },
  {
   "cell_type": "markdown",
   "metadata": {},
   "source": [
    "Как видно, мы потеряли часть регионов. Либо яндекс не обработал запрос, либо дейстивтельно в них нет ресторанов данных сетей. Добавим их с 0 во всех значениях"
   ]
  },
  {
   "cell_type": "code",
   "execution_count": 311,
   "metadata": {
    "scrolled": true
   },
   "outputs": [
    {
     "name": "stdout",
     "output_type": "stream",
     "text": [
      "Республика Северная Осетия - Алания\n",
      "Пермская область\n",
      "Ханты-Мансийский автономный\n",
      "Ямало-Ненецкий\n",
      "Читинская область\n",
      "Камчатская область\n",
      "Магаданская область\n"
     ]
    }
   ],
   "source": [
    "for region in list_of_regions[1:]:\n",
    "    if region not in list(new_df['Region']):\n",
    "        print(region)\n",
    "        new_df.loc[len(new_df.index), 'Region'] = region\n",
    "        \n",
    "new_df.fillna(0, inplace=True)"
   ]
  },
  {
   "cell_type": "code",
   "execution_count": 318,
   "metadata": {},
   "outputs": [],
   "source": [
    "right = rus_info_df[['Region', 'Population', 'Latitude', 'Longitude']]\n",
    "rus_geo_df = right.merge(new_df, left_on='Region', right_on='Region', how='left')"
   ]
  },
  {
   "cell_type": "code",
   "execution_count": 319,
   "metadata": {},
   "outputs": [
    {
     "data": {
      "text/html": [
       "<div>\n",
       "<style scoped>\n",
       "    .dataframe tbody tr th:only-of-type {\n",
       "        vertical-align: middle;\n",
       "    }\n",
       "\n",
       "    .dataframe tbody tr th {\n",
       "        vertical-align: top;\n",
       "    }\n",
       "\n",
       "    .dataframe thead th {\n",
       "        text-align: right;\n",
       "    }\n",
       "</style>\n",
       "<table border=\"1\" class=\"dataframe\">\n",
       "  <thead>\n",
       "    <tr style=\"text-align: right;\">\n",
       "      <th></th>\n",
       "      <th>Region_ID</th>\n",
       "      <th>Region</th>\n",
       "      <th>Region_eng</th>\n",
       "      <th>Population</th>\n",
       "      <th>Rus_perc</th>\n",
       "      <th>Urban_pop</th>\n",
       "      <th>Urban_pop_perc</th>\n",
       "      <th>Rural_pop</th>\n",
       "      <th>Rural_pop_perc</th>\n",
       "      <th>Area</th>\n",
       "      <th>Density_pop_sqkm</th>\n",
       "      <th>Federal_district</th>\n",
       "      <th>Latitude</th>\n",
       "      <th>Longitude</th>\n",
       "    </tr>\n",
       "  </thead>\n",
       "  <tbody>\n",
       "    <tr>\n",
       "      <th>0</th>\n",
       "      <td>0</td>\n",
       "      <td>Россия</td>\n",
       "      <td>Russia</td>\n",
       "      <td>146745098</td>\n",
       "      <td>100</td>\n",
       "      <td>109326899</td>\n",
       "      <td>74,5</td>\n",
       "      <td>37553533</td>\n",
       "      <td>25,59</td>\n",
       "      <td>17125191</td>\n",
       "      <td>8,57</td>\n",
       "      <td>РФ</td>\n",
       "      <td>64.686314</td>\n",
       "      <td>97.745306</td>\n",
       "    </tr>\n",
       "    <tr>\n",
       "      <th>1</th>\n",
       "      <td>77</td>\n",
       "      <td>Москва</td>\n",
       "      <td>Moscow</td>\n",
       "      <td>12692466</td>\n",
       "      <td>8,65</td>\n",
       "      <td>12342615</td>\n",
       "      <td>97,24</td>\n",
       "      <td>163853</td>\n",
       "      <td>1,29</td>\n",
       "      <td>2561</td>\n",
       "      <td>4956,06</td>\n",
       "      <td>ЦФО</td>\n",
       "      <td>55.479205</td>\n",
       "      <td>37.327330</td>\n",
       "    </tr>\n",
       "    <tr>\n",
       "      <th>2</th>\n",
       "      <td>50</td>\n",
       "      <td>Московская область</td>\n",
       "      <td>Moscow region</td>\n",
       "      <td>7687647</td>\n",
       "      <td>5,24</td>\n",
       "      <td>6123573</td>\n",
       "      <td>79,65</td>\n",
       "      <td>1379812</td>\n",
       "      <td>17,95</td>\n",
       "      <td>44329</td>\n",
       "      <td>173,42</td>\n",
       "      <td>ЦФО</td>\n",
       "      <td>55.504316</td>\n",
       "      <td>38.035393</td>\n",
       "    </tr>\n",
       "    <tr>\n",
       "      <th>3</th>\n",
       "      <td>23</td>\n",
       "      <td>Краснодарский край</td>\n",
       "      <td>Krasnodar region</td>\n",
       "      <td>5677786</td>\n",
       "      <td>3,87</td>\n",
       "      <td>3075168</td>\n",
       "      <td>54,16</td>\n",
       "      <td>2528252</td>\n",
       "      <td>44,53</td>\n",
       "      <td>75485</td>\n",
       "      <td>75,22</td>\n",
       "      <td>ЮФО</td>\n",
       "      <td>45.768401</td>\n",
       "      <td>39.026104</td>\n",
       "    </tr>\n",
       "    <tr>\n",
       "      <th>4</th>\n",
       "      <td>78</td>\n",
       "      <td>Санкт-Петербург</td>\n",
       "      <td>St. Petersburg</td>\n",
       "      <td>5392992</td>\n",
       "      <td>3,68</td>\n",
       "      <td>5351935</td>\n",
       "      <td>99,24</td>\n",
       "      <td>0</td>\n",
       "      <td>0</td>\n",
       "      <td>1403</td>\n",
       "      <td>3843,9</td>\n",
       "      <td>СЗФО</td>\n",
       "      <td>59.960674</td>\n",
       "      <td>30.158655</td>\n",
       "    </tr>\n",
       "    <tr>\n",
       "      <th>...</th>\n",
       "      <td>...</td>\n",
       "      <td>...</td>\n",
       "      <td>...</td>\n",
       "      <td>...</td>\n",
       "      <td>...</td>\n",
       "      <td>...</td>\n",
       "      <td>...</td>\n",
       "      <td>...</td>\n",
       "      <td>...</td>\n",
       "      <td>...</td>\n",
       "      <td>...</td>\n",
       "      <td>...</td>\n",
       "      <td>...</td>\n",
       "      <td>...</td>\n",
       "    </tr>\n",
       "    <tr>\n",
       "      <th>81</th>\n",
       "      <td>4</td>\n",
       "      <td>Республика Алтай</td>\n",
       "      <td>Altai Republic</td>\n",
       "      <td>220140</td>\n",
       "      <td>0,15</td>\n",
       "      <td>63214</td>\n",
       "      <td>28,72</td>\n",
       "      <td>154849</td>\n",
       "      <td>70,34</td>\n",
       "      <td>92903</td>\n",
       "      <td>2,37</td>\n",
       "      <td>СФО</td>\n",
       "      <td>50.711410</td>\n",
       "      <td>86.857219</td>\n",
       "    </tr>\n",
       "    <tr>\n",
       "      <th>82</th>\n",
       "      <td>79</td>\n",
       "      <td>Еврейская автономная область</td>\n",
       "      <td>Jewish Autonomous Region</td>\n",
       "      <td>158381</td>\n",
       "      <td>0,11</td>\n",
       "      <td>111415</td>\n",
       "      <td>70,35</td>\n",
       "      <td>50599</td>\n",
       "      <td>31,95</td>\n",
       "      <td>36271</td>\n",
       "      <td>4,37</td>\n",
       "      <td>ДВФО</td>\n",
       "      <td>48.560161</td>\n",
       "      <td>132.277566</td>\n",
       "    </tr>\n",
       "    <tr>\n",
       "      <th>83</th>\n",
       "      <td>49</td>\n",
       "      <td>Магаданская область</td>\n",
       "      <td>Magadan Region</td>\n",
       "      <td>140199</td>\n",
       "      <td>0,1</td>\n",
       "      <td>138169</td>\n",
       "      <td>98,55</td>\n",
       "      <td>5922</td>\n",
       "      <td>4,22</td>\n",
       "      <td>462464</td>\n",
       "      <td>0,3</td>\n",
       "      <td>ДВФО</td>\n",
       "      <td>63.551503</td>\n",
       "      <td>154.014726</td>\n",
       "    </tr>\n",
       "    <tr>\n",
       "      <th>84</th>\n",
       "      <td>87</td>\n",
       "      <td>Чукотский автономный округ</td>\n",
       "      <td>Chukotka Autonomous Okrug</td>\n",
       "      <td>50726</td>\n",
       "      <td>0,03</td>\n",
       "      <td>34795</td>\n",
       "      <td>68,59</td>\n",
       "      <td>14553</td>\n",
       "      <td>28,69</td>\n",
       "      <td>721481</td>\n",
       "      <td>0,07</td>\n",
       "      <td>ДВФО</td>\n",
       "      <td>66.000647</td>\n",
       "      <td>169.490087</td>\n",
       "    </tr>\n",
       "    <tr>\n",
       "      <th>85</th>\n",
       "      <td>83</td>\n",
       "      <td>Ненецкий автономный округ</td>\n",
       "      <td>Nenets Autonomous Okrug</td>\n",
       "      <td>44110</td>\n",
       "      <td>0,03</td>\n",
       "      <td>32049</td>\n",
       "      <td>72,66</td>\n",
       "      <td>11948</td>\n",
       "      <td>27,09</td>\n",
       "      <td>176810</td>\n",
       "      <td>0,25</td>\n",
       "      <td>СЗФО</td>\n",
       "      <td>67.678325</td>\n",
       "      <td>57.062685</td>\n",
       "    </tr>\n",
       "  </tbody>\n",
       "</table>\n",
       "<p>86 rows × 14 columns</p>\n",
       "</div>"
      ],
      "text/plain": [
       "    Region_ID                        Region                 Region_eng  \\\n",
       "0           0                        Россия                     Russia   \n",
       "1          77                        Москва                     Moscow   \n",
       "2          50            Московская область              Moscow region   \n",
       "3          23            Краснодарский край           Krasnodar region   \n",
       "4          78               Санкт-Петербург             St. Petersburg   \n",
       "..        ...                           ...                        ...   \n",
       "81          4              Республика Алтай             Altai Republic   \n",
       "82         79  Еврейская автономная область   Jewish Autonomous Region   \n",
       "83         49           Магаданская область             Magadan Region   \n",
       "84         87    Чукотский автономный округ  Chukotka Autonomous Okrug   \n",
       "85         83     Ненецкий автономный округ    Nenets Autonomous Okrug   \n",
       "\n",
       "    Population Rus_perc  Urban_pop Urban_pop_perc  Rural_pop Rural_pop_perc  \\\n",
       "0    146745098      100  109326899           74,5   37553533          25,59   \n",
       "1     12692466     8,65   12342615          97,24     163853           1,29   \n",
       "2      7687647     5,24    6123573          79,65    1379812          17,95   \n",
       "3      5677786     3,87    3075168          54,16    2528252          44,53   \n",
       "4      5392992     3,68    5351935          99,24          0              0   \n",
       "..         ...      ...        ...            ...        ...            ...   \n",
       "81      220140     0,15      63214          28,72     154849          70,34   \n",
       "82      158381     0,11     111415          70,35      50599          31,95   \n",
       "83      140199      0,1     138169          98,55       5922           4,22   \n",
       "84       50726     0,03      34795          68,59      14553          28,69   \n",
       "85       44110     0,03      32049          72,66      11948          27,09   \n",
       "\n",
       "        Area Density_pop_sqkm Federal_district   Latitude   Longitude  \n",
       "0   17125191             8,57               РФ  64.686314   97.745306  \n",
       "1       2561          4956,06              ЦФО  55.479205   37.327330  \n",
       "2      44329           173,42              ЦФО  55.504316   38.035393  \n",
       "3      75485            75,22              ЮФО  45.768401   39.026104  \n",
       "4       1403           3843,9             СЗФО  59.960674   30.158655  \n",
       "..       ...              ...              ...        ...         ...  \n",
       "81     92903             2,37              СФО  50.711410   86.857219  \n",
       "82     36271             4,37             ДВФО  48.560161  132.277566  \n",
       "83    462464              0,3             ДВФО  63.551503  154.014726  \n",
       "84    721481             0,07             ДВФО  66.000647  169.490087  \n",
       "85    176810             0,25             СЗФО  67.678325   57.062685  \n",
       "\n",
       "[86 rows x 14 columns]"
      ]
     },
     "execution_count": 319,
     "metadata": {},
     "output_type": "execute_result"
    }
   ],
   "source": [
    "rus_info_df"
   ]
  },
  {
   "cell_type": "code",
   "execution_count": 320,
   "metadata": {},
   "outputs": [],
   "source": [
    "rus_geo_df = rus_geo_df.dropna()"
   ]
  },
  {
   "cell_type": "code",
   "execution_count": 321,
   "metadata": {},
   "outputs": [],
   "source": [
    "### FROM: (см выше)\n",
    "rus_geo_df.loc[rus_geo_df.Region == 'Москва', 'Latitude'] = 55.7522\n",
    "rus_geo_df.loc[rus_geo_df.Region == 'Москва', 'Longitude'] = 37.6220\n",
    "rus_geo_df.loc[rus_geo_df.Region == 'Санкт-Петербург', 'Latitude'] = 59.8917\n",
    "rus_geo_df.loc[rus_geo_df.Region == 'Санкт-Петербург', 'Longitude'] = 30.2673\n",
    "\n",
    "rus_geo_df.fillna(0, inplace=True)"
   ]
  },
  {
   "cell_type": "code",
   "execution_count": 112,
   "metadata": {},
   "outputs": [],
   "source": [
    "rus_bnd_gdf = gpd.read_file('geo.json')"
   ]
  },
  {
   "cell_type": "code",
   "execution_count": 323,
   "metadata": {
    "collapsed": true
   },
   "outputs": [
    {
     "name": "stderr",
     "output_type": "stream",
     "text": [
      "/opt/anaconda3/lib/python3.7/site-packages/pyproj/crs/crs.py:131: FutureWarning: '+init=<authority>:<code>' syntax is deprecated. '<authority>:<code>' is the preferred initialization method. When making the change, be mindful of axis order changes: https://pyproj4.github.io/pyproj/stable/gotchas.html#axis-order-changes-in-proj-6\n",
      "  in_crs_string = _prepare_from_proj_string(in_crs_string)\n",
      "/opt/anaconda3/lib/python3.7/site-packages/IPython/core/interactiveshell.py:3249: FutureWarning: The `op` parameter is deprecated and will be removed in a future release. Please use the `predicate` parameter instead.\n",
      "  if (await self.run_code(code, result,  async_=asy)):\n",
      "/opt/anaconda3/lib/python3.7/site-packages/ipykernel_launcher.py:6: UserWarning: CRS mismatch between the CRS of left geometries and the CRS of right geometries.\n",
      "Use `to_crs()` to reproject one of the input geometries to match the CRS of the other.\n",
      "\n",
      "Left CRS: +init=epsg:4326 +type=crs\n",
      "Right CRS: EPSG:4326\n",
      "\n",
      "  \n"
     ]
    }
   ],
   "source": [
    "# Regions mapping\n",
    "rus_gdf = gpd.GeoDataFrame(rus_geo_df, geometry=gpd.points_from_xy(rus_geo_df.Longitude, rus_geo_df.Latitude))\n",
    "rus_gdf.crs = {'init': 'epsg:4326'}\n",
    "\n",
    "rus_shape = rus_bnd_gdf[['NAME_1', 'TYPE_1', 'ID_1', 'geometry']]\n",
    "rus_gdf = gpd.sjoin(rus_gdf, rus_shape, how=\"left\", op='within')"
   ]
  },
  {
   "cell_type": "code",
   "execution_count": 111,
   "metadata": {},
   "outputs": [],
   "source": [
    "def embed_map(m, file_name):\n",
    "    from IPython.display import IFrame\n",
    "    m.save(file_name)\n",
    "    return IFrame(file_name, width='100%', height='500px')\n",
    "\n",
    "### END FROM"
   ]
  },
  {
   "cell_type": "code",
   "execution_count": 333,
   "metadata": {},
   "outputs": [],
   "source": [
    "import branca.colormap as cm"
   ]
  },
  {
   "cell_type": "markdown",
   "metadata": {},
   "source": [
    "### Карта процентного соотношения кол-ва ресторанов KFC относительно других ресторанов в этом регионе по регионам России (Рыжий - max%)"
   ]
  },
  {
   "cell_type": "code",
   "execution_count": 342,
   "metadata": {
    "scrolled": false
   },
   "outputs": [
    {
     "data": {
      "text/html": [
       "\n",
       "        <iframe\n",
       "            width=\"100%\"\n",
       "            height=\"500px\"\n",
       "            src=\"m_1.html\"\n",
       "            frameborder=\"0\"\n",
       "            allowfullscreen\n",
       "        ></iframe>\n",
       "        "
      ],
      "text/plain": [
       "<IPython.lib.display.IFrame at 0x7fa29d4a02d0>"
      ]
     },
     "execution_count": 342,
     "metadata": {},
     "output_type": "execute_result"
    }
   ],
   "source": [
    "m_1 = folium.Map(\n",
    "    location=[64.0914, 101.6016],\n",
    "    tiles='Stamen Toner',\n",
    "    zoom_start=3\n",
    ")\n",
    "\n",
    "scale_min, scale_max = 0, 100\n",
    "#colormap = linear.YlOrRd_09.scale(scale_min, scale_max, colors=['red'])\n",
    "colormap = cm.LinearColormap(['yellow', 'red'],\n",
    "                       vmin=0, vmax=100)\n",
    "\n",
    "def color_mapper(id):\n",
    "    row = rus_gdf[rus_gdf.ID_1 == id].reset_index()\n",
    "    if len(row) == 0:\n",
    "        return scale_min\n",
    "    return row.Percent_KFC.iloc[0]\n",
    "\n",
    "folium.GeoJson(\n",
    "    rus_bnd_gdf,\n",
    "    name='rusjson',\n",
    "    style_function=lambda feature: {\n",
    "        'fillColor': colormap(color_mapper(feature['properties']['ID_1'])),\n",
    "        'color': 'black',\n",
    "        'weight': 1,\n",
    "        'dashArray': '5, 5',\n",
    "        'fillOpacity': 0.9,\n",
    "    }\n",
    ").add_to(m_1)\n",
    "\n",
    "embed_map(m_1, 'm_1.html')"
   ]
  },
  {
   "cell_type": "markdown",
   "metadata": {},
   "source": [
    "### Карта процентного соотношения кол-ва ресторанов Вкусно - и точка относительно других ресторанов в этом регионе по регионам России (Темно-коричнеый - max%)"
   ]
  },
  {
   "cell_type": "code",
   "execution_count": 341,
   "metadata": {},
   "outputs": [
    {
     "data": {
      "text/html": [
       "\n",
       "        <iframe\n",
       "            width=\"100%\"\n",
       "            height=\"500px\"\n",
       "            src=\"m_2.html\"\n",
       "            frameborder=\"0\"\n",
       "            allowfullscreen\n",
       "        ></iframe>\n",
       "        "
      ],
      "text/plain": [
       "<IPython.lib.display.IFrame at 0x7fa29d49a690>"
      ]
     },
     "execution_count": 341,
     "metadata": {},
     "output_type": "execute_result"
    }
   ],
   "source": [
    "m_2 = folium.Map(\n",
    "    location=[64.0914, 101.6016],\n",
    "    tiles='Stamen Toner',\n",
    "    zoom_start=3\n",
    ")\n",
    "\n",
    "scale_min, scale_max = 0, 100\n",
    "#colormap = linear.YlOrRd_09.scale(scale_min, scale_max, colors=['red'])\n",
    "colormap = cm.LinearColormap(['brown', 'green'],\n",
    "                       vmin=0, vmax=100)\n",
    "\n",
    "def color_mapper(id):\n",
    "    row = rus_gdf[rus_gdf.ID_1 == id].reset_index()\n",
    "    if len(row) == 0:\n",
    "        return scale_min\n",
    "    return row['Percent_Вкусно — и точка'].iloc[0]\n",
    "\n",
    "folium.GeoJson(\n",
    "    rus_bnd_gdf,\n",
    "    name='rusjson',\n",
    "    style_function=lambda feature: {\n",
    "        'fillColor': colormap(color_mapper(feature['properties']['ID_1'])),\n",
    "        'color': 'black',\n",
    "        'weight': 1,\n",
    "        'dashArray': '5, 5',\n",
    "        'fillOpacity': 0.9,\n",
    "    }\n",
    ").add_to(m_2)\n",
    "\n",
    "embed_map(m_2, 'm_2.html')"
   ]
  },
  {
   "cell_type": "markdown",
   "metadata": {},
   "source": [
    "### Карта процентного соотношения кол-ва ресторанов Бургер Кинг относительно других ресторанов в этом регионе по регионам России (Фиолетовый - max)\n"
   ]
  },
  {
   "cell_type": "code",
   "execution_count": 344,
   "metadata": {},
   "outputs": [
    {
     "data": {
      "text/html": [
       "\n",
       "        <iframe\n",
       "            width=\"100%\"\n",
       "            height=\"500px\"\n",
       "            src=\"m_3.html\"\n",
       "            frameborder=\"0\"\n",
       "            allowfullscreen\n",
       "        ></iframe>\n",
       "        "
      ],
      "text/plain": [
       "<IPython.lib.display.IFrame at 0x7fa2cef58bd0>"
      ]
     },
     "execution_count": 344,
     "metadata": {},
     "output_type": "execute_result"
    }
   ],
   "source": [
    "m_3 = folium.Map(\n",
    "    location=[64.0914, 101.6016],\n",
    "    tiles='Stamen Toner',\n",
    "    zoom_start=3\n",
    ")\n",
    "\n",
    "scale_min, scale_max = 0, 100\n",
    "#colormap = linear.YlOrRd_09.scale(scale_min, scale_max, colors=['red'])\n",
    "colormap = cm.LinearColormap(['red', 'blue'],\n",
    "                       vmin=0, vmax=100)\n",
    "\n",
    "def color_mapper(id):\n",
    "    row = rus_gdf[rus_gdf.ID_1 == id].reset_index()\n",
    "    if len(row) == 0:\n",
    "        return scale_min\n",
    "    return row['Percent_Бургер Кинг'].iloc[0]\n",
    "\n",
    "folium.GeoJson(\n",
    "    rus_bnd_gdf,\n",
    "    name='rusjson',\n",
    "    style_function=lambda feature: {\n",
    "        'fillColor': colormap(color_mapper(feature['properties']['ID_1'])),\n",
    "        'color': 'black',\n",
    "        'weight': 1,\n",
    "        'dashArray': '5, 5',\n",
    "        'fillOpacity': 0.9,\n",
    "    }\n",
    ").add_to(m_3)\n",
    "\n",
    "embed_map(m_3, 'm_3.html')"
   ]
  },
  {
   "cell_type": "markdown",
   "metadata": {},
   "source": [
    "### Карта процентного соотношения кол-ва ресторанов Теремок относительно других ресторанов в этом регионе по регионам России (Голубой - max)"
   ]
  },
  {
   "cell_type": "code",
   "execution_count": 351,
   "metadata": {},
   "outputs": [
    {
     "data": {
      "text/html": [
       "\n",
       "        <iframe\n",
       "            width=\"100%\"\n",
       "            height=\"500px\"\n",
       "            src=\"m_4.html\"\n",
       "            frameborder=\"0\"\n",
       "            allowfullscreen\n",
       "        ></iframe>\n",
       "        "
      ],
      "text/plain": [
       "<IPython.lib.display.IFrame at 0x7fa29a914390>"
      ]
     },
     "execution_count": 351,
     "metadata": {},
     "output_type": "execute_result"
    }
   ],
   "source": [
    "m_4 = folium.Map(\n",
    "    location=[64.0914, 101.6016],\n",
    "    tiles='Stamen Toner',\n",
    "    zoom_start=3\n",
    ")\n",
    "\n",
    "scale_min, scale_max = 0, 100\n",
    "#colormap = linear.YlOrRd_09.scale(scale_min, scale_max, colors=['red'])\n",
    "colormap = cm.LinearColormap(['blue', 'white'],\n",
    "                       vmin=0, vmax=100)\n",
    "\n",
    "def color_mapper(id):\n",
    "    row = rus_gdf[rus_gdf.ID_1 == id].reset_index()\n",
    "    if len(row) == 0:\n",
    "        return scale_min\n",
    "    return row.Percent_Теремок.iloc[0]\n",
    "\n",
    "folium.GeoJson(\n",
    "    rus_bnd_gdf,\n",
    "    name='rusjson',\n",
    "    style_function=lambda feature: {\n",
    "        'fillColor': colormap(color_mapper(feature['properties']['ID_1'])),\n",
    "        'color': 'black',\n",
    "        'weight': 1,\n",
    "        'dashArray': '5, 5',\n",
    "        'fillOpacity': 0.9,\n",
    "    }\n",
    ").add_to(m_4)\n",
    "\n",
    "embed_map(m_4, 'm_4.html')"
   ]
  },
  {
   "cell_type": "markdown",
   "metadata": {},
   "source": [
    "### Карта распространений кол-ва ресторанов фастфуд в абсолютных значениях (Темно-красный - max)"
   ]
  },
  {
   "cell_type": "code",
   "execution_count": 352,
   "metadata": {},
   "outputs": [
    {
     "data": {
      "text/html": [
       "\n",
       "        <iframe\n",
       "            width=\"100%\"\n",
       "            height=\"500px\"\n",
       "            src=\"m_5.html\"\n",
       "            frameborder=\"0\"\n",
       "            allowfullscreen\n",
       "        ></iframe>\n",
       "        "
      ],
      "text/plain": [
       "<IPython.lib.display.IFrame at 0x7fa2ee7f9610>"
      ]
     },
     "execution_count": 352,
     "metadata": {},
     "output_type": "execute_result"
    }
   ],
   "source": [
    "m_5 = folium.Map(\n",
    "    location=[64.0914, 101.6016],\n",
    "    tiles='Stamen Toner',\n",
    "    zoom_start=3\n",
    ")\n",
    "\n",
    "scale_min, scale_max = 0, np.log(rus_gdf.Sum.max()+1)\n",
    "colormap = linear.YlOrRd_09.scale(scale_min, scale_max)\n",
    "\n",
    "\n",
    "def color_mapper(id):\n",
    "    row = rus_gdf[rus_gdf.ID_1 == id].reset_index()\n",
    "    if len(row) == 0:\n",
    "        return scale_min\n",
    "    return np.log(row.Sum.iloc[0]+1)\n",
    "\n",
    "folium.GeoJson(\n",
    "    rus_bnd_gdf,\n",
    "    name='rusjson',\n",
    "    style_function=lambda feature: {\n",
    "        'fillColor': colormap(color_mapper(feature['properties']['ID_1'])),\n",
    "        'color': 'black',\n",
    "        'weight': 1,\n",
    "        'dashArray': '5, 5',\n",
    "        'fillOpacity': 0.9,\n",
    "    }\n",
    ").add_to(m_5)\n",
    "\n",
    "embed_map(m_5, 'm_5.html')"
   ]
  },
  {
   "cell_type": "code",
   "execution_count": null,
   "metadata": {},
   "outputs": [],
   "source": []
  }
 ],
 "metadata": {
  "kernelspec": {
   "display_name": "Python 3",
   "language": "python",
   "name": "python3"
  },
  "language_info": {
   "codemirror_mode": {
    "name": "ipython",
    "version": 3
   },
   "file_extension": ".py",
   "mimetype": "text/x-python",
   "name": "python",
   "nbconvert_exporter": "python",
   "pygments_lexer": "ipython3",
   "version": "3.7.4"
  }
 },
 "nbformat": 4,
 "nbformat_minor": 2
}
